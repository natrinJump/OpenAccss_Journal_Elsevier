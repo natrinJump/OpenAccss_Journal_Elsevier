{
 "cells": [
  {
   "cell_type": "code",
   "execution_count": 1,
   "id": "111a3e3e",
   "metadata": {},
   "outputs": [],
   "source": [
    "# !pip install selenium"
   ]
  },
  {
   "cell_type": "code",
   "execution_count": 2,
   "id": "5c2e154f",
   "metadata": {},
   "outputs": [],
   "source": [
    "import pickle\n",
    "import pandas as pd\n",
    "import os\n",
    "from bs4 import BeautifulSoup\n",
    "import re\n",
    "from selenium import webdriver\n",
    "import requests\n",
    "from time import sleep\n",
    "\n",
    "# Progress Bar\n",
    "from tqdm import tqdm"
   ]
  },
  {
   "cell_type": "code",
   "execution_count": 3,
   "id": "e4f9ce99",
   "metadata": {},
   "outputs": [],
   "source": [
    "# Path to the Chrome WebDriver executable\n",
    "driver = webdriver.Chrome()"
   ]
  },
  {
   "cell_type": "code",
   "execution_count": 4,
   "id": "f3842417",
   "metadata": {},
   "outputs": [],
   "source": [
    "def extract_journal(doi):\n",
    "    # just get text after 'j.' until another '.'\n",
    "    match = re.search(r'j\\.([^\\.]+)', doi)\n",
    "    if match:\n",
    "        name = match.group(1)\n",
    "        return name"
   ]
  },
  {
   "cell_type": "code",
   "execution_count": 5,
   "id": "6343f2d9",
   "metadata": {},
   "outputs": [],
   "source": [
    "data = pd.read_csv(os.getcwd() + '/data/body_extracted.csv', index_col=0)\n",
    "\n",
    "dois = data['doi']\n",
    "\n",
    "data['doi'] = data['doi'].apply(extract_journal)\n",
    "threshold = 22/len(data) # the remaining journals need to at least contain 22 articles\n",
    "counts = data['doi'].value_counts(normalize=True)\n",
    "data = data.loc[data['doi'].isin(counts[counts > threshold].index), :]\n",
    "journals = data['doi'].unique()"
   ]
  },
  {
   "cell_type": "code",
   "execution_count": 29,
   "id": "3c776aec",
   "metadata": {},
   "outputs": [],
   "source": [
    "def scape_name(url):\n",
    "    driver.get(url)\n",
    "    page_source = driver.page_source\n",
    "    soup = BeautifulSoup(page_source)\n",
    "    publication_elem = soup.find('div', class_='Publication')\n",
    "\n",
    "    if publication_elem is None:\n",
    "        return ''\n",
    "    \n",
    "    title_elem = publication_elem.find('h2', class_=\"publication-title\")\n",
    "    if title_elem is None:\n",
    "        title_elem = publication_elem.find('a', class_=\"publication-brand-title-link\")\n",
    "    elem = title_elem.find('span', class_=\"anchor-text\")\n",
    "    if elem is not None:\n",
    "        return elem.text\n",
    "    else:\n",
    "        print('bad', url)\n",
    "        return ''\n"
   ]
  },
  {
   "cell_type": "code",
   "execution_count": 30,
   "id": "fac7ced9",
   "metadata": {},
   "outputs": [
    {
     "name": "stderr",
     "output_type": "stream",
     "text": [
      "100%|██████████| 378/378 [04:15<00:00,  1.48it/s]\n"
     ]
    }
   ],
   "source": [
    "# get all journal\n",
    "journal_map = {}\n",
    "for journal in tqdm(journals):\n",
    "    for doi in dois:\n",
    "        match = re.search(r'j\\.([^\\.]+)', doi)\n",
    "        if match:\n",
    "            name = match.group(1)\n",
    "            if name == journal:\n",
    "                url = 'https://doi.org/' + doi\n",
    "                journal_name = scape_name(url)\n",
    "                journal_map[journal] = journal_name\n",
    "#                 print(doi, journal_name)\n",
    "                break\n",
    "\n",
    "# Add missing journal (this one redirect to different url)\n",
    "journal_map['amsu'] = 'Annals of Medicine and Surgery' "
   ]
  },
  {
   "cell_type": "code",
   "execution_count": 26,
   "id": "2c5eda14",
   "metadata": {},
   "outputs": [],
   "source": [
    "file_path = 'data/journal_abv_dictionary.pkl'\n",
    "\n",
    "# Open the file in binary write mode and save the data\n",
    "with open(file_path, 'wb') as file:\n",
    "    pickle.dump(journal_map, file)"
   ]
  },
  {
   "cell_type": "code",
   "execution_count": 31,
   "id": "39f25419",
   "metadata": {},
   "outputs": [
    {
     "name": "stdout",
     "output_type": "stream",
     "text": [
      "{'aap': 'Accident Analysis & Prevention', 'actatropica': 'Acta Tropica', 'ajhg': 'The American Journal of Human Genetics', 'aca': 'Analytica Chimica Acta', 'anbehav': 'Animal Behaviour', 'apergo': 'Applied Ergonomics', 'brat': 'Behaviour Research and Therapy', 'bbrc': 'Biochemical and Biophysical Research Communications', 'bcp': 'Biochemical Pharmacology', 'biocon': 'Biological Conservation', 'biopsych': 'Biological Psychiatry', 'brainres': 'Brain Research', 'carres': 'Carbohydrate Research', 'ces': 'Chemical Engineering Science', 'chemgeo': 'Chemical Geology', 'cognition': 'Cognition', 'combustflame': 'Combustion and Flame', 'corsci': 'Corrosion Science', 'cortex': 'Cortex', 'ydbio': 'Developmental Biology', 'epsl': 'Earth and Planetary Science Letters', 'earscirev': 'Earth-Science Reviews', 'electacta': 'Electrochimica Acta', 'envres': 'Environmental Research', 'ejphar': 'European Journal of Pharmacology', 'eurpolymj': 'European Polymer Journal', 'exer': 'Experimental Eye Research', 'expneurol': 'Experimental Neurology', 'fuel': 'Fuel', 'futures': 'Futures', 'ygcen': 'General and Comparative Endocrinology', 'gca': 'Geochimica et Cosmochimica Acta', 'geoderma': 'Geoderma', 'geoforum': 'Geoforum', 'icarus': 'Icarus', 'ijpara': 'International Journal for Parasitology', 'atherosclerosis': 'Atherosclerosis', 'jbiomech': 'Journal of Biomechanics', 'chroma': 'Journal of Chromatography A', 'jcis': 'Journal of Colloid and Interface Science', 'jcrysgro': 'Journal of Crystal Growth', 'jecp': 'Journal of Experimental Child Psychology', 'jhydrol': 'Journal of Hydrology', 'jim': 'Journal of Immunological Methods', 'yjmcc': 'Journal of Molecular and Cellular Cardiology', 'jmb': 'Journal of Molecular Biology', 'jnucmat': 'Journal of Nuclear Materials', 'xphs': 'Journal of Pharmaceutical Sciences', 'jpsychores': 'Journal of Psychosomatic Research', 'jsv': 'Journal of Sound and Vibration', 'jss': 'Journal of Surgical Research', 'lithos': 'Lithos', 'margeo': 'Marine Geology', 'marpolbul': 'Marine Pollution Bulletin', 'neuropharm': 'Neuropharmacology', 'neuropsychologia': 'Neuropsychologia', 'oceaneng': 'Ocean Engineering', 'palaeo': 'Palaeogeography, Palaeoclimatology, Palaeoecology', 'physbeh': 'Physiology & Behavior', 'pss': 'Planetary and Space Science', 'polymer': 'Polymer', 'powtec': 'Powder Technology', 'rse': 'Remote Sensing of Environment', 'soilbio': 'Soil Biology and Biochemistry', 'solener': 'Solar Energy', 'susc': 'Surface Science', 'talanta': 'Talanta', 'techfore': 'Technological Forecasting and Social Change', 'tecto': 'Tectonophysics', 'tet': 'Tetrahedron', 'tsf': 'Thin Solid Films', 'taap': 'Toxicology and Applied Pharmacology', 'virol': 'Virology', 'visres': 'Vision Research', 'watres': 'Water Research', 'aquaculture': 'Aquaculture', 'chemosphere': 'Chemosphere', 'respol': 'Research Policy', 'scitotenv': 'Science of The Total Environment', 'pocean': 'Progress in Oceanography', 'jaci': 'Journal of Allergy and Clinical Immunology', 'ypmed': 'Preventive Medicine', 'cell': 'Cell', 'eneco': 'Energy Economics', 'engstruct': 'Engineering Structures', 'biomaterials': 'Biomaterials', 'aquaeng': 'Aquacultural Engineering', 'carbpol': 'Carbohydrate Polymers', 'chiabu': 'Child Abuse & Neglect', 'dci': 'Developmental & Comparative Immunology', 'jbusres': 'Journal of Business Research', 'neubiorev': 'Neuroscience & Biobehavioral Reviews', 'intell': 'Intelligence', 'envint': 'Environment International', 'molimm': 'Molecular Immunology', 'pharmthera': 'Pharmacology & Therapeutics', 'jneumeth': 'Journal of Neuroscience Methods', 'jad': 'Journal of Affective Disorders', 'psychres': 'Psychiatry Research', 'jviromet': 'Journal of Virological Methods', 'tins': 'Trends in Neurosciences', 'antiviral': 'Antiviral Research', 'bbr': 'Behavioural Brain Research', 'jebo': 'Journal of Economic Behavior & Organization', 'ijcard': 'International Journal of Cardiology', 'prevetmed': 'Preventive Veterinary Medicine', 'mimet': 'Journal of Microbiological Methods', 'tibtech': 'Trends in Biotechnology', 'agee': 'Agriculture, Ecosystems & Environment', 'jbiotec': 'Journal of Biotechnology', 'compag': 'Computers and Electronics in Agriculture', 'virusres': 'Virus Research', 'agrformet': 'Agricultural and Forest Meteorology', 'jconrel': 'Journal of Controlled Release', 'nimb': 'Nuclear Instruments and Methods in Physics Research Section B: Beam Interactions with Materials and Atoms', 'nima': 'Nuclear Instruments and Methods in Physics Research Section A: Accelerators, Spectrometers, Detectors and Associated Equipment', 'plantsci': 'Plant Science', 'oregeorev': 'Ore Geology Reviews', 'landurbplan': 'Landscape and Urban Planning', 'addr': 'Advanced Drug Delivery Reviews', 'apsusc': 'Applied Surface Science', 'tree': 'Trends in Ecology & Evolution', 'geomorph': 'Geomorphology', 'childyouth': 'Children and Youth Services Review', 'jsg': 'Journal of Structural Geology', 'paid': 'Personality and Individual Differences', 'appet': 'Appetite', 'enconman': 'Energy Conversion and Management', 'neurobiolaging': 'Neurobiology of Aging', 'compenvurbsys': 'Computers, Environment and Urban Systems', 'ejmech': 'European Journal of Medicinal Chemistry', 'sajb': 'South African Journal of Botany', 'surfcoat': 'Surface and Coatings Technology', 'jfoodeng': 'Journal of Food Engineering', 'matdes': 'Materials & Design (1980-2015)', 'tourman': 'Tourism Management', 'measurement': 'Measurement', 'compstruct': 'Composite Structures', 'cherd': 'Chemical Engineering Research and Design', 'cities': 'Cities', 'vaccine': 'Vaccine', 'marpetgeo': 'Marine and Petroleum Geology', 'landusepol': 'Land Use Policy', 'jenvrad': 'Journal of Environmental Radioactivity', 'compscitech': 'Composites Science and Technology', 'foodhyd': 'Food Hydrocolloids', 'envpol': 'Environmental Pollution', 'cpr': 'Clinical Psychology Review', 'ecss': 'Estuarine, Coastal and Shelf Science', 'yrtph': 'Regulatory Toxicology and Pharmacology', 'quascirev': 'Quaternary Science Reviews', 'socscimed': 'Social Science & Medicine', 'fct': 'Food and Chemical Toxicology', 'biopsycho': 'Biological Psychology', 'resourpol': 'Resources Policy', 'enpol': 'Energy Policy', 'jenvman': 'Journal of Environmental Management', 'ultrasmedbio': 'Ultrasound in Medicine & Biology', 'triboint': 'Tribology International', 'jag': 'International Journal of Applied Earth Observation and Geoinformation', 'ecolmodel': 'Ecological Modelling', 'jdeveco': 'Journal of Development Economics', 'jhazmat': 'Journal of Hazardous Materials', 'neulet': 'Neuroscience Letters', 'ultramic': 'Ultramicroscopy', 'scienta': 'Scientia Horticulturae', 'jas': 'Journal of Archaeological Science', 'worlddev': 'World Development', 'apenergy': 'Applied Energy', 'neuroscience': 'Neuroscience', 'psyneuen': 'Psychoneuroendocrinology', 'addbeh': 'Addictive Behaviors', 'foodpol': 'Food Policy', 'agsy': 'Agricultural Systems', 'marpol': 'Marine Policy', 'foodchem': 'Food Chemistry', 'advwatres': 'Advances in Water Resources', 'buildenv': 'Building and Environment', 'ijhydene': 'International Journal of Hydrogen Energy', 'energy': 'Energy', 'beproc': 'Behavioural Processes', 'memsci': 'Journal of Membrane Science', 'drugalcdep': 'Drug and Alcohol Dependence', 'jvolgeores': 'Journal of Volcanology and Geothermal Research', 'ejor': 'European Journal of Operational Research', 'foreco': 'Forest Ecology and Management', 'vetmic': 'Veterinary Microbiology', 'agwat': 'Agricultural Water Management', 'fuproc': 'Fuel Processing Technology', 'toxlet': 'Toxicology Letters', 'fcr': 'Field Crops Research', 'ijpharm': 'International Journal of Pharmaceutics', 'heares': 'Hearing Research', 'jpowsour': 'Journal of Power Sources', 'enbuild': 'Energy and Buildings', 'ejbt': 'Electronic Journal of Biotechnology', 'jpba': 'Journal of Pharmaceutical and Biomedical Analysis', 'jacc': 'Journal of the American College of Cardiology', 'jrurstud': 'Journal of Rural Studies', 'chb': 'Computers in Human Behavior', 'jml': 'Journal of Memory and Language', 'biopha': 'Biomedicine & Pharmacotherapy', 'apgeochem': 'Applied Geochemistry', 'tiv': 'Toxicology in Vitro', 'bbi': 'Brain, Behavior, and Immunity', 'jaac': 'Journal of the American Academy of Child & Adolescent Psychiatry', 'ridd': 'Research in Developmental Disabilities', 'freeradbiomed': 'Free Radical Biology and Medicine', 'neuron': 'Neuron', 'jaut': 'Journal of Autoimmunity', 'fusengdes': 'Fusion Engineering and Design', 'cattod': 'Catalysis Today', 'schres': 'Schizophrenia Research', 'resconrec': 'Resources, Conservation and Recycling', 'msea': 'Materials Science and Engineering: A', 'ecolecon': 'Ecological Economics', 'gloplacha': 'Global and Planetary Change', 'jmatprotec': 'Journal of Materials Processing Technology', 'isprsjprs': 'ISPRS Journal of Photogrammetry and Remote Sensing', 'snb': 'Sensors and Actuators B: Chemical', 'ijpe': 'International Journal of Production Economics', 'ssci': 'Safety Science', 'jallcom': 'Journal of Alloys and Compounds', 'apcatb': 'Applied Catalysis B: Environmental', 'solmat': 'Solar Energy Materials and Solar Cells', 'colsurfa': 'Colloids and Surfaces A: Physicochemical and Engineering Aspects', 'colsurfb': 'Colloids and Surfaces B: Biointerfaces', 'ejps': 'European Journal of Pharmaceutical Sciences', 'msec': 'Materials Science and Engineering: C', 'ejpb': 'European Journal of Pharmaceutics and Biopharmaceutics', 'conbuildmat': 'Construction and Building Materials', 'ress': 'Reliability Engineering & System Safety', 'jeurceramsoc': 'Journal of the European Ceramic Society', 'wasman': 'Waste Management', 'bios': 'Biosensors and Bioelectronics', 'foodcont': 'Food Control', 'eswa': 'Expert Systems with Applications', 'gloenvcha': 'Global Environmental Change', 'jclepro': 'Journal of Cleaner Production', 'renene': 'Renewable Energy', 'biortech': 'Bioresource Technology', 'nmd': 'Neuromuscular Disorders', 'cub': 'Current Biology', 'biombioe': 'Biomass and Bioenergy', 'polgeo': 'Political Geography', 'tra': 'Transportation Research Part A: Policy and Practice', 'jtrangeo': 'Journal of Transport Geography', 'dsr': 'Deep Sea Research Part I: Oceanographic Research Papers', 'bmc': 'Bioorganic & Medicinal Chemistry', 'trc': 'Transportation Research Part C: Emerging Technologies', 'str': 'Structure', 'apradiso': 'Applied Radiation and Isotopes', 'nbd': 'Neurobiology of Disease', 'esd': 'Energy for Sustainable Development', 'phrs': 'Pharmacological Research', 'matchar': 'Materials Characterization', 'ymeth': 'Methods', 'jsb': 'Journal of Structural Biology', 'concog': 'Consciousness and Cognition', 'neuroimage': 'NeuroImage', 'ympev': 'Molecular Phylogenetics and Evolution', 'vascn': 'Journal of Pharmacological and Toxicological Methods', 'joca': 'Osteoarthritis and Cartilage', 'ijhcs': 'International Journal of Human-Computer Studies', 'nlm': 'Neurobiology of Learning and Memory', 'immuni': 'Immunity', 'fgb': 'Fungal Genetics and Biology', 'tvjl': 'The Veterinary Journal', 'jmr': 'Journal of Magnetic Resonance', 'ymben': 'Metabolic Engineering', 'ymgme': 'Molecular Genetics and Metabolism', 'molcel': 'Molecular Cell', 'atmosenv': 'Atmospheric Environment', 'healthplace': 'Health & Place', 'applthermaleng': 'Applied Thermal Engineering', 'actamat': 'Acta Materialia', 'compositesa': 'Composites Part A: Applied Science and Manufacturing', 'compositesb': 'Composites Part B: Engineering', 'media': 'Medical Image Analysis', 'trd': 'Transportation Research Part D: Transport and Environment', 'rser': 'Renewable and Sustainable Energy Reviews', 'tics': 'Trends in Cognitive Sciences', 'envsoft': 'Environmental Modelling & Software', 'bej': 'Biochemical Engineering Journal', 'trf': 'Transportation Research Part F: Traffic Psychology and Behaviour', 'cej': 'Chemical Engineering Journal', 'jcv': 'Journal of Clinical Virology', 'clinph': 'Clinical Neurophysiology', 'elecom': 'Electrochemistry Communications', 'envsci': 'Environmental Science & Policy', 'ecolind': 'Ecological Indicators', 'pt': 'Trends in Parasitology', 'tube': 'Tuberculosis', 'ymthe': 'Molecular Therapy', 'yebeh': 'Epilepsy & Behavior', 'jbi': 'Journal of Biomedical Informatics', 'devcel': 'Developmental Cell', 'proci': 'Proceedings of the Combustion Institute', 'nano': 'Nanomedicine: Nanotechnology, Biology and Medicine', 'meegid': 'Infection, Genetics and Evolution', 'jchromb': 'Journal of Chromatography B', 'gpb': 'Genomics, Proteomics & Bioinformatics', 'actbio': 'Acta Biomaterialia', 'ijggc': 'International Journal of Greenhouse Gas Control', 'jmbbm': 'Journal of the Mechanical Behavior of Biomedical Materials', 'epidem': 'Epidemics', 'jff': 'Journal of Functional Foods', 'bjorl': 'Brazilian Journal of Otorhinolaryngology', 'ttbdis': 'Ticks and Tick-borne Diseases', 'dcn': 'Developmental Cognitive Neuroscience', 'chom': 'Cell Host & Microbe', 'csbj': 'Computational and Structural Biotechnology Journal', 'amsu': '', 'nmni': 'New Microbes and New Infections', 'omtn': 'Molecular Therapy - Nucleic Acids', 'ijscr': 'International Journal of Surgery Case Reports', 'eist': 'Environmental Innovation and Societal Transitions', 'celrep': 'Cell Reports', 'nanoen': 'Nano Energy', 'ijpddr': 'International Journal for Parasitology: Drugs and Drug Resistance', 'pmedr': 'Preventive Medicine Reports', 'rinp': 'Results in Physics', 'esr': 'Energy Strategy Reviews', 'mmcr': 'Medical Mycology Case Reports', 'gfs': 'Global Food Security', 'algal': 'Algal Research', 'ecoser': 'Ecosystem Services', 'wace': 'Weather and Climate Extremes', 'crm': 'Climate Risk Management', 'ijdrr': 'International Journal of Disaster Risk Reduction', 'molmet': 'Molecular Metabolism', 'nicl': 'NeuroImage: Clinical', 'ijppaw': 'International Journal for Parasitology: Parasites and Wildlife', 'redox': 'Redox Biology', 'gdata': 'Genomics Data', 'pacs': 'Photoacoustics', 'stemcr': 'Stem Cell Reports', 'jth': 'Journal of Transport & Health', 'csite': 'Case Studies in Thermal Engineering', 'sbsr': 'Sensing and Bio-Sensing Research', 'ymgmr': 'Molecular Genetics and Metabolism Reports', 'cscm': 'Case Studies in Construction Materials', 'ejrh': 'Journal of Hydrology: Regional Studies', 'erss': 'Energy Research & Social Science', 'toxrep': 'Toxicology Reports', 'addma': 'Additive Manufacturing', 'mex': 'MethodsX', 'btre': 'Biotechnology Reports', 'omtm': 'Molecular Therapy - Methods & Clinical Development', 'gecco': 'Global Ecology and Conservation', 'est': 'Journal of Energy Storage', 'nme': 'Nuclear Materials and Energy', 'ynstr': 'Neurobiology of Stress', 'dib': 'Data in Brief', 'ebiom': 'EBioMedicine', 'jasrep': 'Journal of Archaeological Science: Reports', 'egyr': 'Energy Reports', 'aqrep': 'Aquaculture Reports', 'plabm': 'Practical Laboratory Medicine', 'softx': 'SoftwareX', 'ssmph': 'SSM - Population Health', 'apmt': 'Applied Materials Today', 'rppede': 'Revista Paulista de Pediatria  (English Edition)', 'cels': 'Cell Systems', 'bbrep': 'Biochemistry and Biophysics Reports', 'parepi': 'Parasite Epidemiology and Control', 'fawpar': 'Food and Waterborne Parasitology', 'heliyon': 'Heliyon', 'pvr': 'Papillomavirus Research', 'cliser': 'Climate Services', 'conctc': 'Contemporary Clinical Trials Communications', 'chembiol': 'Cell Chemical Biology', 'ohx': 'HardwareX', 'jsamd': 'Journal of Science: Advanced Materials and Devices', 'sciaf': 'Scientific African', 'aaf': 'Aquaculture and Fisheries', 'isci': 'iScience', 'bone': 'Bone'}\n"
     ]
    }
   ],
   "source": [
    "file_path = 'data/journal_abv_dictionary.pkl'\n",
    "with open(file_path, 'rb') as f:\n",
    "    print(pickle.load(f))\n"
   ]
  }
 ],
 "metadata": {
  "kernelspec": {
   "display_name": "Python 3 (ipykernel)",
   "language": "python",
   "name": "python3"
  },
  "language_info": {
   "codemirror_mode": {
    "name": "ipython",
    "version": 3
   },
   "file_extension": ".py",
   "mimetype": "text/x-python",
   "name": "python",
   "nbconvert_exporter": "python",
   "pygments_lexer": "ipython3",
   "version": "3.9.13"
  }
 },
 "nbformat": 4,
 "nbformat_minor": 5
}
